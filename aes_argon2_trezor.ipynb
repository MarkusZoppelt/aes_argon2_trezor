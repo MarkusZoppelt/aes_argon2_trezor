{
 "cells": [
  {
   "cell_type": "markdown",
   "metadata": {},
   "source": [
    "# Generate AES key with Argon2id KDF using salt (entropy) from Trezor"
   ]
  },
  {
   "cell_type": "code",
   "execution_count": 78,
   "metadata": {},
   "outputs": [],
   "source": [
    "password = \"Super secure password!!11\""
   ]
  },
  {
   "cell_type": "markdown",
   "metadata": {},
   "source": [
    "## Connecting to Trezor device\n",
    "\n",
    "We will use the Trezor hardware wallet to get random bytes of entropy when needed (Trezor will prompt you each time):"
   ]
  },
  {
   "cell_type": "code",
   "execution_count": 79,
   "metadata": {},
   "outputs": [],
   "source": [
    "from trezorlib import misc, ui\n",
    "from trezorlib.client import TrezorClient\n",
    "from trezorlib.transport import get_transport\n",
    "\n",
    "try:\n",
    "    client = TrezorClient(get_transport(), ui=ui.ClickUI())\n",
    "except Exception as e:\n",
    "    print(e)\n",
    "    exit()"
   ]
  },
  {
   "cell_type": "markdown",
   "metadata": {},
   "source": [
    "Test if it works:"
   ]
  },
  {
   "cell_type": "code",
   "execution_count": 80,
   "metadata": {},
   "outputs": [
    {
     "name": "stderr",
     "output_type": "stream",
     "text": [
      "Please confirm action on your Trezor device.\n"
     ]
    },
    {
     "data": {
      "text/plain": [
       "b'\\x85\\x8072\\xb7\\xd8\\xcb\\x99\\x88d\\xca\\xf5\\xf6V\\xcf|'"
      ]
     },
     "execution_count": 80,
     "metadata": {},
     "output_type": "execute_result"
    }
   ],
   "source": [
    "misc.get_entropy(client, 16)"
   ]
  },
  {
   "cell_type": "markdown",
   "metadata": {},
   "source": [
    "## Argon2 KDF\n",
    "\n",
    "Use Argon2id to generate a 32 byte password hash that we will use for AES:"
   ]
  },
  {
   "cell_type": "code",
   "execution_count": 81,
   "metadata": {},
   "outputs": [],
   "source": [
    "import argon2\n",
    "\n",
    "# store salt alongside ciphertext\n",
    "salt = misc.get_entropy(client, 16)\n",
    "\n",
    "password_hash = argon2.low_level.hash_secret_raw(\n",
    "    str.encode(password), salt,\n",
    "    time_cost=16,\n",
    "    memory_cost=2**16,\n",
    "    parallelism=2,\n",
    "    hash_len=32, # hash_len must be 32 for AES\n",
    "    type=argon2.low_level.Type.ID\n",
    ")"
   ]
  },
  {
   "cell_type": "markdown",
   "metadata": {},
   "source": [
    "## AES \n",
    "\n",
    "We can now initialize AES with our encryption key we generated with Argon2id before + using the entropy from Trezor for the AES initialization vector:"
   ]
  },
  {
   "cell_type": "code",
   "execution_count": 82,
   "metadata": {},
   "outputs": [],
   "source": [
    "from cryptography.hazmat.primitives.ciphers import Cipher, algorithms, modes\n",
    "\n",
    "key = password_hash\n",
    "iv = misc.get_entropy(client, 16)\n",
    "\n",
    "cipher = Cipher(algorithms.AES(key), modes.CBC(iv))"
   ]
  },
  {
   "cell_type": "markdown",
   "metadata": {},
   "source": [
    "### Encryption\n",
    "\n",
    "Use the key to encrypt some data:"
   ]
  },
  {
   "cell_type": "code",
   "execution_count": 83,
   "metadata": {},
   "outputs": [
    {
     "name": "stdout",
     "output_type": "stream",
     "text": [
      "b'x\\xa7\\x86\\xa0\\xe9F\\x0bwL\\xd4\\x80L\\x1f\\xa7eD'\n"
     ]
    }
   ],
   "source": [
    "encryptor = cipher.encryptor()\n",
    "\n",
    "enc = encryptor.update(b\"a secret message\") + encryptor.finalize()\n",
    "\n",
    "print(enc)"
   ]
  },
  {
   "cell_type": "markdown",
   "metadata": {},
   "source": [
    "### Decryption\n",
    "\n",
    "Use the key to decrypt the data:"
   ]
  },
  {
   "cell_type": "code",
   "execution_count": 84,
   "metadata": {},
   "outputs": [
    {
     "name": "stdout",
     "output_type": "stream",
     "text": [
      "b'a secret message'\n"
     ]
    }
   ],
   "source": [
    "decryptor = cipher.decryptor()\n",
    "\n",
    "dec = decryptor.update(enc) + decryptor.finalize()\n",
    "\n",
    "print(dec)"
   ]
  }
 ],
 "metadata": {
  "interpreter": {
   "hash": "aad48a7932b55e176d83dc23c606d1b4f07ad98c3cde6e3e38962ea2f1403634"
  },
  "kernelspec": {
   "display_name": "Python 3.9.12 ('.env': venv)",
   "language": "python",
   "name": "python3"
  },
  "language_info": {
   "codemirror_mode": {
    "name": "ipython",
    "version": 3
   },
   "file_extension": ".py",
   "mimetype": "text/x-python",
   "name": "python",
   "nbconvert_exporter": "python",
   "pygments_lexer": "ipython3",
   "version": "3.9.12"
  },
  "orig_nbformat": 4
 },
 "nbformat": 4,
 "nbformat_minor": 2
}
